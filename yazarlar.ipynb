{
 "cells": [
  {
   "cell_type": "code",
   "execution_count": 1,
   "id": "003dd75a",
   "metadata": {},
   "outputs": [
    {
     "data": {
      "text/plain": [
       "dict"
      ]
     },
     "execution_count": 1,
     "metadata": {},
     "output_type": "execute_result"
    }
   ],
   "source": [
    "sözlük = {} #curly breakets\n",
    "type(sözlük)\n"
   ]
  },
  {
   "cell_type": "code",
   "execution_count": 2,
   "id": "48eb821f",
   "metadata": {},
   "outputs": [],
   "source": [
    "sözlük = {\"car\":\"araba\"}"
   ]
  },
  {
   "cell_type": "code",
   "execution_count": 3,
   "id": "b51a9655",
   "metadata": {},
   "outputs": [
    {
     "data": {
      "text/plain": [
       "'araba'"
      ]
     },
     "execution_count": 3,
     "metadata": {},
     "output_type": "execute_result"
    }
   ],
   "source": [
    "sözlük [\"car\"]"
   ]
  },
  {
   "cell_type": "code",
   "execution_count": 4,
   "id": "2d28d773",
   "metadata": {},
   "outputs": [
    {
     "data": {
      "text/plain": [
       "{'car': 'araba'}"
      ]
     },
     "execution_count": 4,
     "metadata": {},
     "output_type": "execute_result"
    }
   ],
   "source": [
    "sözlük"
   ]
  },
  {
   "cell_type": "code",
   "execution_count": 5,
   "id": "242363ee",
   "metadata": {},
   "outputs": [
    {
     "data": {
      "text/plain": [
       "1"
      ]
     },
     "execution_count": 5,
     "metadata": {},
     "output_type": "execute_result"
    }
   ],
   "source": [
    "len(sözlük)"
   ]
  },
  {
   "cell_type": "code",
   "execution_count": 6,
   "id": "9ace3bb9",
   "metadata": {
    "collapsed": true
   },
   "outputs": [
    {
     "data": {
      "text/plain": [
       "['__class__',\n",
       " '__class_getitem__',\n",
       " '__contains__',\n",
       " '__delattr__',\n",
       " '__delitem__',\n",
       " '__dir__',\n",
       " '__doc__',\n",
       " '__eq__',\n",
       " '__format__',\n",
       " '__ge__',\n",
       " '__getattribute__',\n",
       " '__getitem__',\n",
       " '__gt__',\n",
       " '__hash__',\n",
       " '__init__',\n",
       " '__init_subclass__',\n",
       " '__ior__',\n",
       " '__iter__',\n",
       " '__le__',\n",
       " '__len__',\n",
       " '__lt__',\n",
       " '__ne__',\n",
       " '__new__',\n",
       " '__or__',\n",
       " '__reduce__',\n",
       " '__reduce_ex__',\n",
       " '__repr__',\n",
       " '__reversed__',\n",
       " '__ror__',\n",
       " '__setattr__',\n",
       " '__setitem__',\n",
       " '__sizeof__',\n",
       " '__str__',\n",
       " '__subclasshook__',\n",
       " 'clear',\n",
       " 'copy',\n",
       " 'fromkeys',\n",
       " 'get',\n",
       " 'items',\n",
       " 'keys',\n",
       " 'pop',\n",
       " 'popitem',\n",
       " 'setdefault',\n",
       " 'update',\n",
       " 'values']"
      ]
     },
     "execution_count": 6,
     "metadata": {},
     "output_type": "execute_result"
    }
   ],
   "source": [
    "dir(dict)"
   ]
  },
  {
   "cell_type": "code",
   "execution_count": null,
   "id": "0d78cc53",
   "metadata": {},
   "outputs": [],
   "source": [
    "\"\"\"'clear',\n",
    " 'copy',\n",
    " 'fromkeys',\n",
    " 'get',\n",
    " 'items',\n",
    " 'keys',\n",
    " 'pop',\n",
    " 'popitem',\n",
    " 'setdefault',\n",
    " 'update',\n",
    " 'values']\"\"\" #dublecod"
   ]
  },
  {
   "cell_type": "code",
   "execution_count": 7,
   "id": "01363d36",
   "metadata": {},
   "outputs": [
    {
     "data": {
      "text/plain": [
       "dict_items([('car', 'araba')])"
      ]
     },
     "execution_count": 7,
     "metadata": {},
     "output_type": "execute_result"
    }
   ],
   "source": [
    "sözlük.items()"
   ]
  },
  {
   "cell_type": "code",
   "execution_count": 10,
   "id": "d9a50b1f",
   "metadata": {},
   "outputs": [
    {
     "data": {
      "text/plain": [
       "dict_keys(['car'])"
      ]
     },
     "execution_count": 10,
     "metadata": {},
     "output_type": "execute_result"
    }
   ],
   "source": [
    "sözlük.keys()"
   ]
  },
  {
   "cell_type": "code",
   "execution_count": 11,
   "id": "e4f37d4a",
   "metadata": {},
   "outputs": [
    {
     "data": {
      "text/plain": [
       "dict_values(['araba'])"
      ]
     },
     "execution_count": 11,
     "metadata": {},
     "output_type": "execute_result"
    }
   ],
   "source": [
    "sözlük.values()"
   ]
  },
  {
   "cell_type": "code",
   "execution_count": 16,
   "id": "2175d134",
   "metadata": {},
   "outputs": [
    {
     "data": {
      "text/plain": [
       "'arabalılar'"
      ]
     },
     "execution_count": 16,
     "metadata": {},
     "output_type": "execute_result"
    }
   ],
   "source": [
    "v1 = sözlük.values()\n",
    "list(v1)[0] + \"lılar\""
   ]
  },
  {
   "cell_type": "code",
   "execution_count": 17,
   "id": "39771923",
   "metadata": {},
   "outputs": [
    {
     "data": {
      "text/plain": [
       "{'car': 'araba', 'key': 'anahtar'}"
      ]
     },
     "execution_count": 17,
     "metadata": {},
     "output_type": "execute_result"
    }
   ],
   "source": [
    "sözlük[\"key\"] = \"anahtar\"\n",
    "sözlük"
   ]
  },
  {
   "cell_type": "code",
   "execution_count": 22,
   "id": "33762c40",
   "metadata": {},
   "outputs": [
    {
     "data": {
      "text/plain": [
       "{'car': 'araba', 'key': 'anahtar', 'cucumber': 'hıyar'}"
      ]
     },
     "execution_count": 22,
     "metadata": {},
     "output_type": "execute_result"
    }
   ],
   "source": [
    "sözlük[\"cucumber\"] = \"hıyar\"\n",
    "sözlük"
   ]
  },
  {
   "cell_type": "code",
   "execution_count": 19,
   "id": "cefa3251",
   "metadata": {},
   "outputs": [
    {
     "data": {
      "text/plain": [
       "'anahtarlılar'"
      ]
     },
     "execution_count": 19,
     "metadata": {},
     "output_type": "execute_result"
    }
   ],
   "source": [
    "v1 = sözlük.values()\n",
    "list(v1)[1] + \"lılar\""
   ]
  },
  {
   "cell_type": "code",
   "execution_count": 23,
   "id": "bbe4b07c",
   "metadata": {},
   "outputs": [
    {
     "data": {
      "text/plain": [
       "'hıyarlılar'"
      ]
     },
     "execution_count": 23,
     "metadata": {},
     "output_type": "execute_result"
    }
   ],
   "source": [
    "v1 = sözlük.values()\n",
    "list(v1)[2] + \"lılar\""
   ]
  },
  {
   "cell_type": "code",
   "execution_count": 24,
   "id": "1f629e1c",
   "metadata": {},
   "outputs": [
    {
     "data": {
      "text/plain": [
       "['araba', 'anahtar', 'hıyar']"
      ]
     },
     "execution_count": 24,
     "metadata": {},
     "output_type": "execute_result"
    }
   ],
   "source": [
    "listem = [\"araba\",\"anahtar\",\"hıyar\"]\n",
    "listem"
   ]
  },
  {
   "cell_type": "code",
   "execution_count": 25,
   "id": "a78caa2f",
   "metadata": {},
   "outputs": [
    {
     "data": {
      "text/plain": [
       "{'car': 'araba', 'key': 'anahtar', 'cucumber': 'hıyar'}"
      ]
     },
     "execution_count": 25,
     "metadata": {},
     "output_type": "execute_result"
    }
   ],
   "source": [
    "sözlük"
   ]
  },
  {
   "cell_type": "code",
   "execution_count": 26,
   "id": "53603d19",
   "metadata": {},
   "outputs": [
    {
     "data": {
      "text/plain": [
       "'araba'"
      ]
     },
     "execution_count": 26,
     "metadata": {},
     "output_type": "execute_result"
    }
   ],
   "source": [
    "listem[0]"
   ]
  },
  {
   "cell_type": "code",
   "execution_count": 27,
   "id": "ba750a61",
   "metadata": {},
   "outputs": [
    {
     "data": {
      "text/plain": [
       "'araba'"
      ]
     },
     "execution_count": 27,
     "metadata": {},
     "output_type": "execute_result"
    }
   ],
   "source": [
    "sözlük[\"car\"]"
   ]
  },
  {
   "cell_type": "code",
   "execution_count": 30,
   "id": "f816856d",
   "metadata": {},
   "outputs": [
    {
     "name": "stdout",
     "output_type": "stream",
     "text": [
      "car\n",
      "araba\n",
      "key\n",
      "anahtar\n",
      "cucumber\n",
      "hıyar\n"
     ]
    }
   ],
   "source": [
    "for key, value in sözlük.items():\n",
    "    print(key)\n",
    "    print(value)"
   ]
  },
  {
   "cell_type": "code",
   "execution_count": 1,
   "id": "90714df7",
   "metadata": {
    "collapsed": true
   },
   "outputs": [
    {
     "name": "stdout",
     "output_type": "stream",
     "text": [
      "[['Kürk Mantolu Madonna', 'Sabahattin Ali', 'Yapı Kredi Yayınları', '9.50'], ['Martin Eden', 'Jack London', 'İş Bankası Kültür Yayınları', '28.00'], ['1984', 'George Orwell', 'Can Yayınları', '21.00'], ['İçimizdeki Şeytan', 'Sabahattin Ali', 'Yapı Kredi Yayınları', '10.00'], ['Hayvan Çiftliği', 'George Orwell', 'Can Yayınları', '11.00'], ['Fareler ve İnsanlar', 'John Steinbeck', 'Sel Yayıncılık', '35.75'], ['Gurur ve Önyargı', 'Jane Austen', 'İş Bankası Kültür Yayınları', '25.00'], ['Xoxo', 'Axie Oh', 'Artemis Yayınları', '66.50'], ['Harry Potter ve Felsefe Taşı - 1', 'J. K. Rowling', 'Yapı Kredi Yayınları', '26.00'], ['Elf Kralı ile Anlaşma', 'Elise Kova', 'Yabancı Yayınları', '45.00'], ['Kayıp Tanrılar Ülkesi', 'Ahmet Ümit', 'Yapı Kredi Yayınları', '42.50'], ['Yabancı', 'Albert Camus', 'Can Yayınları', '21.00'], ['Göğe Bakma Durağı', 'Turgut Uyar', 'Yapı Kredi Yayınları', '7.50'], ['Çavdar Tarlasında Çocuklar', 'Jerome David Salinger', 'Yapı Kredi Yayınları', '20.00'], ['Harry Potter ve Sırlar Odası - 2', 'J. K. Rowling', 'Yapı Kredi Yayınları', '30.00'], [\"Dorian Gray'in Portresi\", 'Oscar Wilde', 'Can Yayınları', '17.00'], ['Koku', 'Patrick Süskind', 'Can Yayınları', '39.00'], ['Kırmızı Saçlı Kadın', 'Orhan Pamuk', 'Yapı Kredi Yayınları', '26.00'], ['Korkuyu Beklerken', 'Oğuz Atay', 'İletişim Yayınevi', '33.50'], ['Var Mısın?', 'Doğan Cüceloğlu', 'Kronik Kitap', '42.00'], ['İnsancıklar', 'Fyodor Mihayloviç Dostoyevski', 'Can Yayınları', '15.00'], ['Kaplanın Sırtında', 'Zülfü Livaneli', 'İnkılap Kitabevi', '57.80'], ['İnce Memed - 1', 'Yaşar Kemal', 'Yapı Kredi Yayınları', '46.00'], ['Bulantı', 'Jean Paul Sartre', 'Can Yayınları', '30.00'], ['Dokuzuncu Hariciye Koğuşu', 'Peyami Safa', 'Ötüken Neşriyat', '20.80'], ['Harry Potter ve Azkaban Tutsağı - 3', 'J. K. Rowling', 'Yapı Kredi Yayınları', '37.50'], ['Değirmen', 'Sabahattin Ali', 'Yapı Kredi Yayınları', '7.00'], ['Aşkımız Eski Bir Roman', 'Ahmet Ümit', 'Yapı Kredi Yayınları', '25.00'], ['Karamazov Kardeşler', 'Fyodor Mihayloviç Dostoyevski', 'İş Bankası Kültür Yayınları', '45.00'], ['Abartma Tozu', 'Şermin Yaşar', 'Taze Kitap', '58.50'], ['Hayat Kaybettiğin Yerden Başlar', 'Miraç Çağrı Aktaş', 'İndigo Kitap', '31.90'], ['Yeşil Bambu ve Diğer Fantastik Öyküler', 'Osamu Dazai', 'İthaki Yayınları', '18.00'], ['Çeyiz', 'Hatice Kübra Tongar', 'Hayykitap', '39.00'], ['English Grammar Today - Türkçe Açıklamalı İngilizce Gramer', 'Murat Kurt', 'MK Publications', '110.00'], ['Körlük', 'Jose Saramago', 'Kırmızı Kedi Yayınevi', '70.00'], ['Harry Potter ve Ateş Kadehi - 4', 'J. K. Rowling', 'Yapı Kredi Yayınları', '50.00'], ['Açlık', 'Knut Hamsun', 'Varlık Yayınları', '18.20'], ['Henüz Vakit Varken Gülüm', 'Nazım Hikmet Ran', 'Yapı Kredi Yayınları', '12.50'], ['SÜT VE BAL', 'Rupi Kaur', 'Pegasus Yayınları', '66.00'], ['İnce Memed - 2', 'Yaşar Kemal', 'Yapı Kredi Yayınları', '41.00'], ['Reader at Work 1', 'Aysun Velioğlu', 'ODTÜ Geliştirme Vakfı Yayıncılık', '50.92'], ['AMOK KOŞUCUSU', 'Stefan Zweig', 'İş Bankası Kültür Yayınları', '10.08'], ['Bunun Adı Findel', 'Andrew Clements', 'Günışığı Kitaplığı', '27.72'], ['Atomik Alışkanlıklar', 'James Clear', 'Pegasus Yayınları', '81.00'], ['Bilinçaltının Gücü', 'Joseph Murphy', 'Diyojen Yayıncılık', '46.80'], ['Bizimle Başladı Bizimle Bitti', 'Colleen Hoover', 'Epsilon Yayınevi', '53.10'], ['Dedemin Bakkalı', 'Şermin Yaşar', 'Taze Kitap', '58.50'], ['ÇİZGİLİ PİJAMALI ÇOCUK', 'John Boyne', 'Tudem Yayınları', '52.14'], ['Dune Çocukları', 'Frank Herbert', 'İthaki Yayınları', '60.50'], ['Sis ve Gece', 'Ahmet Ümit', 'Yapı Kredi Yayınları', '32.50'], ['Charlie’nin Çikolata Fabrikası', 'Roald Dahl', 'Can Çocuk Yayınları', '30.00'], ['Dune Mesihi', 'Frank Herbert', 'İthaki Yayınları', '40.70'], ['İnce Memed - 3', 'Yaşar Kemal', 'Yapı Kredi Yayınları', '52.50'], ['Çürümenin Kitabı', 'Emil Michel Cioran', 'Metis Yayınları', '51.10'], ['Seneler', 'Annie ErnauX', 'Can Yayınları', '30.50'], ['İnsanlığımı Yitirirken', 'Osamu Dazai', 'Sel Yayıncılık', '26.00'], ['Verity: Gerçeğin Diğer Kıyısı', 'Colleen Hoover', 'Epsilon Yayınevi', '44.70'], ['Evlenmeden Önce', 'Doğan Cüceloğlu', 'Kronik Kitap', '32.50'], ['No. 26', 'Beyza Alkoç', 'İndigo Kitap', '54.45'], ['Karantina', 'Beyza Alkoç', 'İndigo Kitap', '54.45'], ['İnsan İnsana', 'Doğan Cüceloğlu', 'Kronik Kitap', '40.60'], ['İnce Memed - 4', 'Yaşar Kemal', 'Yapı Kredi Yayınları', '55.00'], ['Ay’ı Kim Çaldı', 'Helen Stratton Would', 'Yapı Kredi Yayınları', '12.00'], ['Harry Potter ve Melez Prens - 6', 'J. K. Rowling', 'Yapı Kredi Yayınları', '44.88'], ['Kırk Kere Söyledim', 'Ziya Selçuk', 'Kronik Kitap', '30.00'], ['Harry Potter ve Ölüm Yadigarları 7', 'J. K. Rowling', 'Yapı Kredi Yayınları', '49.50'], ['Kırlangıç Çığlığı', 'Ahmet Ümit', 'Yapı Kredi Yayınları', '42.50'], ['Karantina - Üçüncü Perde', 'Beyza Alkoç', 'İndigo Kitap', '54.45'], ['Çetin Ceviz', 'Sinan Yaşar', 'FOM Kitap', '21.00'], ['Ağrıdağı Efsanesi', 'Yaşar Kemal', 'Yapı Kredi Yayınları', '17.50'], ['İnsan Geleceğini Nasıl Kurar?', 'İlber Ortaylı', 'Kronik Kitap', '42.00'], ['Cadının Yüreği', 'Genevieve Gornichec', 'İthaki Yayınları', '32.50'], ['Kelebeği Öldürmek', 'Beyza Aksoy', 'Epsilon Yayınevi', '71.10'], ['Karantina - Beşinci Perde', 'Beyza Alkoç', 'İndigo Kitap', '54.45'], ['Kapak Kızı', 'Ayfer Tunç', 'Can Yayınları', '33.75'], ['Etkili İnsanların 7 Alışkanlığı', 'Stephen R. Covey', 'Varlık Yayınları', '45.00'], ['Karantina: İkinci Perde', 'Beyza Alkoç', 'İndigo Kitap', '54.45'], ['İnci', 'John Steinbeck', 'Sel Yayıncılık', '32.50'], ['Zengin Baba Yoksul Baba', 'Robert T. Kiyosaki', 'Alfa Yayınları', '101.50'], ['Death Note - Ölüm Defteri 3', 'Tsugumi Ooba', 'Akıl Çelen Kitaplar', '28.00'], ['Sana Gül Bahçesi Vadetmedim', 'Joanne Greenberg', 'Metis Yayınları', '68.62'], ['Dune Rahibeler Meclisi', 'Frank Herbert', 'İthaki Yayınları', '55.00'], ['Dune Sapkınları', 'Frank Herbert', 'İthaki Yayınları', '67.10'], ['Çaylak ile Filozof: Ben Bir Neyim?', 'Özkan Öze', 'Uğurböceği Yayınları', '21.00'], ['Çatıdaki Gezegen', 'Behiç Ak', 'Günışığı Kitaplığı', '35.75'], ['Karısını Şapka Sanan Adam', 'Oliver Sacks', 'Yapı Kredi Yayınları', '27.50'], ['Eyvah Kitap!', 'Mine Soysal', 'Günışığı Kitaplığı', '26.04'], ['Harry Potter ve Zümrüdüanka Yoldaşlığı - 5', 'J. K. Rowling', 'Yapı Kredi Yayınları', '84.50'], ['İletişim Donanımları', 'Doğan Cüceloğlu', 'Remzi Kitabevi', '39.10'], ['Yalancılar ve Yabancılar 2', 'Emre Gül', 'Ren Kitap', '67.50'], ['Çetin Ceviz ve Çetonya', 'Sinan Yaşar', 'FOM Kitap', '21.00'], ['Kar Küresi', 'Beyza Alkoç', 'İndigo Kitap', '54.45'], ['Kiralık Konak', 'Yakup Kadri Karaosmanoğlu', 'İletişim Yayınevi', '41.48'], ['Harry Potter Seti 7 Kitap Takım', 'J. K. Rowling', 'Yapı Kredi Yayınları', '364.00'], ['Hayvanlardan Tanrılara: Sapiens', 'Yuval Noah Harari', 'Kolektif Kitap', '74.75'], ['Dört Anlaşma', 'Don Miguel Ruiz', 'Ötesi Yayıncılık', '21.45']]\n"
     ]
    }
   ],
   "source": [
    "import requests\n",
    "from bs4 import BeautifulSoup\n",
    "import pandas as pd \n",
    "\n",
    "url = \"https://www.bkmkitap.com/kitap/cok-satan-kitaplar\"\n",
    "\n",
    "response = requests.get(url)\n",
    "\n",
    "html_icerigi = response.content \n",
    "\n",
    "soup = BeautifulSoup(html_icerigi,\"html.parser\")\n",
    "\n",
    "fiyatlar = soup.find_all(\"div\",{\"class\":\"col col-12 currentPrice\"})\n",
    "isimler = soup.find_all(\"a\",{\"class\":\"fl col-12 text-description detailLink\"})\n",
    "yazarlar = soup.find_all(\"a\",{\"class\":\"fl col-12 text-title\"})\n",
    "yayınlar = soup.find_all(\"a\",{\"class\":\"col col-12 text-title mt\"})\n",
    "\n",
    "\n",
    "liste = list()\n",
    "#print(fiyatlar)\n",
    "\n",
    "for i in range( len(isimler)):\n",
    "    isimler[i] = (isimler[i].text).strip(\"\\n\").strip()\n",
    "    yazarlar[i] = (yazarlar[i].text).strip(\"\\n\").strip()\n",
    "    yayınlar[i] = (yayınlar[i].text).strip(\"\\n\").strip()\n",
    "    fiyatlar[i] = (fiyatlar[i].text).strip(\"\\n\").replace(\"\\nTL\" , \"\").replace(\",\",\".\")\n",
    "    liste.append([isimler[i],yazarlar[i],yayınlar[i],fiyatlar[i]])\n",
    "    \n",
    "   \n",
    "    #for döngüsü bu satırda bitti  yani bu satıdan sonra satır başı yapılmalıdır\n",
    "    \n",
    "print(liste)\n"
   ]
  },
  {
   "cell_type": "code",
   "execution_count": 2,
   "id": "7077b96b",
   "metadata": {},
   "outputs": [
    {
     "data": {
      "text/plain": [
       "96"
      ]
     },
     "execution_count": 2,
     "metadata": {},
     "output_type": "execute_result"
    }
   ],
   "source": [
    "len(isimler)"
   ]
  },
  {
   "cell_type": "code",
   "execution_count": 4,
   "id": "195ce6fd",
   "metadata": {
    "collapsed": true
   },
   "outputs": [
    {
     "name": "stdout",
     "output_type": "stream",
     "text": [
      "0\n",
      "1\n",
      "2\n",
      "3\n",
      "4\n",
      "5\n",
      "6\n",
      "7\n",
      "8\n",
      "9\n",
      "10\n",
      "11\n",
      "12\n",
      "13\n",
      "14\n",
      "15\n",
      "16\n",
      "17\n",
      "18\n",
      "19\n",
      "20\n",
      "21\n",
      "22\n",
      "23\n",
      "24\n",
      "25\n",
      "26\n",
      "27\n",
      "28\n",
      "29\n",
      "30\n",
      "31\n",
      "32\n",
      "33\n",
      "34\n",
      "35\n",
      "36\n",
      "37\n",
      "38\n",
      "39\n",
      "40\n",
      "41\n",
      "42\n",
      "43\n",
      "44\n",
      "45\n",
      "46\n",
      "47\n",
      "48\n",
      "49\n",
      "50\n",
      "51\n",
      "52\n",
      "53\n",
      "54\n",
      "55\n",
      "56\n",
      "57\n",
      "58\n",
      "59\n",
      "60\n",
      "61\n",
      "62\n",
      "63\n",
      "64\n",
      "65\n",
      "66\n",
      "67\n",
      "68\n",
      "69\n",
      "70\n",
      "71\n",
      "72\n",
      "73\n",
      "74\n",
      "75\n",
      "76\n",
      "77\n",
      "78\n",
      "79\n",
      "80\n",
      "81\n",
      "82\n",
      "83\n",
      "84\n",
      "85\n",
      "86\n",
      "87\n",
      "88\n",
      "89\n",
      "90\n",
      "91\n",
      "92\n",
      "93\n",
      "94\n",
      "95\n"
     ]
    }
   ],
   "source": [
    "for i in range(96):\n",
    "    print(i)"
   ]
  },
  {
   "cell_type": "code",
   "execution_count": 5,
   "id": "0b0bfe58",
   "metadata": {
    "collapsed": true
   },
   "outputs": [
    {
     "name": "stdout",
     "output_type": "stream",
     "text": [
      "Hayvan Çiftliği\n",
      "1984\n",
      "Martin Eden\n",
      "Kürk Mantolu Madonna\n",
      "İçimizdeki Şeytan\n",
      "Gurur ve Önyargı\n",
      "Fareler ve İnsanlar\n",
      "Kayıp Tanrılar Ülkesi\n",
      "Körlük\n",
      "Harry Potter ve Felsefe Taşı - 1\n",
      "Harry Potter Seti 7 Kitap Takım\n",
      "Göğe Bakma Durağı\n",
      "Kırk Kere Söyledim\n",
      "Çavdar Tarlasında Çocuklar\n",
      "Korkuyu Beklerken\n",
      "Yabancı\n",
      "Dokuzuncu Hariciye Koğuşu\n",
      "İnce Memed - 1\n",
      "İnsancıklar\n",
      "Koku\n",
      "Dorian Gray'in Portresi\n",
      "Kırmızı Saçlı Kadın\n",
      "Aşkımız Eski Bir Roman\n",
      "Var Mısın?\n",
      "Charlie’nin Çikolata Fabrikası\n",
      "Harry Potter ve Sırlar Odası - 2\n",
      "Bilinçaltının Gücü\n",
      "Abartma Tozu\n",
      "Şeytanın Çırağı\n",
      "Değirmen\n",
      "Ağrıdağı Efsanesi\n",
      "Bunun Adı Findel\n",
      "Sis ve Gece\n",
      "İnce Memed - 2\n",
      "Eyvah Kitap!\n",
      "Bulantı\n",
      "Hayat Kaybettiğin Yerden Başlar\n",
      "Dedemin Bakkalı\n",
      "Çürümenin Kitabı\n",
      "Zengin Baba Yoksul Baba\n",
      "Reader at Work 1\n",
      "Karamazov Kardeşler\n",
      "Bizimle Başladı Bizimle Bitti\n",
      "Karantina\n",
      "İnce Memed - 4\n",
      "İnce Memed - 3\n",
      "Küçük Prens Kokulu Kitap\n",
      "Gül Yetiştiren Adam\n",
      "Şiddetsiz İletişim\n",
      "Açlık\n",
      "SÜT VE BAL\n",
      "ÇİZGİLİ PİJAMALI ÇOCUK\n",
      "Dune Mesihi\n",
      "Hayvanlardan Tanrılara: Sapiens\n",
      "Harry Potter ve Azkaban Tutsağı - 3\n",
      "Seneler\n",
      "İnci\n",
      "Dune Çocukları\n",
      "Canım Aliye, Ruhum Filiz\n",
      "Harry Potter ve Ateş Kadehi - 4\n",
      "Ay’ı Kim Çaldı\n",
      "Henüz Vakit Varken Gülüm\n",
      "AMOK KOŞUCUSU\n",
      "Dune Sapkınları\n",
      "No. 26\n",
      "Karantina: İkinci Perde\n",
      "İnsan İnsana\n",
      "Yeşil Bambu ve Diğer Fantastik Öyküler\n",
      "Dune Rahibeler Meclisi\n",
      "Dev Şeftali\n",
      "Akıl Oyunlarının Gölgesinde - Sherlock Holmes\n",
      "Kapak Kızı\n",
      "Dervişin Teselli Koleksiyonu\n",
      "İnsan Geleceğini Nasıl Kurar?\n",
      "Kiralık Konak\n",
      "Etkili İnsanların 7 Alışkanlığı\n",
      "Charlie’nin Büyük Cam Asansörü\n",
      "Endişe Ağacı\n",
      "Karısını Şapka Sanan Adam\n",
      "Evlenmeden Önce\n",
      "Kar Küresi\n",
      "Çetin Ceviz\n",
      "English Grammar Today - Türkçe Açıklamalı İngilizce Gramer\n",
      "Geliştiren Anne-Baba\n",
      "Biraz Üzüldüm Sanki! - Bazen Olur Böyle\n",
      "Babaannem Geri Döndü\n",
      "Bab-ı Esrar\n",
      "Karantina - Üçüncü Perde\n",
      "Yalancılar ve Yabancılar 2 - Ciltli\n",
      "Bir Ömür Nasıl Yaşanır?\n",
      "Dört Anlaşma\n",
      "2022 KPSS ALES DGS Ezberbozan Paragraf Soru Bankası\n",
      "Çatıdaki Gezegen\n",
      "Karantina - Beşinci Perde\n",
      "Sana Gül Bahçesi Vadetmedim\n",
      "Suda Kaybolmak\n"
     ]
    }
   ],
   "source": [
    "for i in range(96):\n",
    "    print(isimler[i])"
   ]
  },
  {
   "cell_type": "code",
   "execution_count": 6,
   "id": "e35629b9",
   "metadata": {
    "scrolled": true
   },
   "outputs": [
    {
     "ename": "IndexError",
     "evalue": "list index out of range",
     "output_type": "error",
     "traceback": [
      "\u001b[1;31m---------------------------------------------------------------------------\u001b[0m",
      "\u001b[1;31mIndexError\u001b[0m                                Traceback (most recent call last)",
      "Input \u001b[1;32mIn [6]\u001b[0m, in \u001b[0;36m<cell line: 1>\u001b[1;34m()\u001b[0m\n\u001b[1;32m----> 1\u001b[0m \u001b[43misimler\u001b[49m\u001b[43m[\u001b[49m\u001b[38;5;241;43m96\u001b[39;49m\u001b[43m]\u001b[49m\n",
      "\u001b[1;31mIndexError\u001b[0m: list index out of range"
     ]
    }
   ],
   "source": [
    "isimler[96]\n",
    "#list IndexError: list index out of ran"
   ]
  },
  {
   "cell_type": "code",
   "execution_count": 1,
   "id": "19ea1938",
   "metadata": {},
   "outputs": [
    {
     "name": "stdout",
     "output_type": "stream",
     "text": [
      "Button click koş\n"
     ]
    },
    {
     "name": "stderr",
     "output_type": "stream",
     "text": [
      "Exception in Tkinter callback\n",
      "Traceback (most recent call last):\n",
      "  File \"C:\\Users\\caspe\\anaconda3\\lib\\tkinter\\__init__.py\", line 1892, in __call__\n",
      "    return self.func(*args)\n",
      "  File \"C:\\Users\\caspe\\anaconda3\\lib\\site-packages\\customtkinter\\widgets\\ctk_button.py\", line 377, in clicked\n",
      "    self.command()\n",
      "  File \"C:\\Users\\caspe\\AppData\\Local\\Temp\\ipykernel_10056\\4294807516.py\", line 54, in button_callback\n",
      "    get_book_info()\n",
      "TypeError: get_book_info() missing 1 required positional argument: 'book'\n"
     ]
    }
   ],
   "source": [
    "import tkinter\n",
    "import customtkinter\n",
    "from PIL import ImageTk, Image\n",
    "import requests\n",
    "from bs4 import BeautifulSoup\n",
    "import pandas as pd \n",
    "\n",
    "customtkinter.set_appearance_mode(\"dark\")  # Modes: \"System\" (standard), \"Dark\", \"Light\"\n",
    "customtkinter.set_default_color_theme(\"blue\")  # Themes: \"blue\" (standard), \"green\", \"dark-blue\"\n",
    "\n",
    "app = customtkinter.CTk()\n",
    "app.geometry(\"800x680\")\n",
    "app.title(\"CustomTkinter simple_example.py\")\n",
    "\n",
    "\n",
    "\n",
    "def button_callback():\n",
    "    print(\"Button click\", entry_1.get())\n",
    "    book = entry_1.get()\n",
    "    #print(\"get_book_info() = \", get_book_info)\n",
    "    label_book.configure(text = get_book_info(book))\n",
    "    \n",
    "    \n",
    "def get_book_info(book):\n",
    "    url = \"https://www.bkmkitap.com/kitap/cok-satan-kitaplar\"\n",
    "\n",
    "    response = requests.get(url)\n",
    "\n",
    "    html_icerigi = response.content \n",
    "\n",
    "    soup = BeautifulSoup(html_icerigi,\"html.parser\")\n",
    "\n",
    "    fiyatlar = soup.find_all(\"div\",{\"class\":\"col col-12 currentPrice\"})\n",
    "    isimler = soup.find_all(\"a\",{\"class\":\"fl col-12 text-description detailLink\"})\n",
    "    yazarlar = soup.find_all(\"a\",{\"class\":\"fl col-12 text-title\"})\n",
    "    yayınlar = soup.find_all(\"a\",{\"class\":\"col col-12 text-title mt\"})\n",
    "    \n",
    "    liste = list()\n",
    "\n",
    "    for i in range( len(isimler)):\n",
    "        isimler[i] = (isimler[i].text).strip(\"\\n\").strip()\n",
    "        yazarlar[i] = (yazarlar[i].text).strip(\"\\n\").strip()\n",
    "        yayınlar[i] = (yayınlar[i].text).strip(\"\\n\").strip()\n",
    "        fiyatlar[i] = (fiyatlar[i].text).strip(\"\\n\").replace(\"\\nTL\" , \"\").replace(\",\",\".\")\n",
    "        liste.append([isimler[i],yazarlar[i],yayınlar[i],fiyatlar[i]])\n",
    "\n",
    "\n",
    "    #for döngüsü bu satırda bitti  yani bu satıdan sonra satır başı yapılmalıdır\n",
    "    print(liste)\n",
    "\n",
    "\n",
    "def button_callback():\n",
    "    print(\"Button click\", entry_1.get())\n",
    "    get_book_info()\n",
    "\n",
    "frame_1 = customtkinter.CTkFrame(master=app)\n",
    "frame_1.pack(pady=20, padx=60, fill=\"both\", expand=True)\n",
    "\n",
    "label_1 = customtkinter.CTkLabel(master=frame_1, justify=tkinter.LEFT)\n",
    "label_1.pack(pady=11, padx=10)\n",
    "\n",
    "optionmenu_1 = customtkinter.CTkOptionMenu(frame_1, values=[\"roman\", \"hikaye \", \"öykü \"])\n",
    "optionmenu_1.pack(pady=12, padx=10)\n",
    "optionmenu_1.set(\"kitap türü seçiniz\")\n",
    "\n",
    "entry_1 = customtkinter.CTkEntry(master=frame_1, placeholder_text=\"CTkEntry\")\n",
    "entry_1.pack(pady=12, padx=10)\n",
    "\n",
    "button_1 = customtkinter.CTkButton(master=frame_1, command=button_callback,text = \"giriş yapınız\")\n",
    "button_1.pack(pady=12, padx=24)\n",
    "\n",
    "img = Image.open(\"bookstore.jpeg\")\n",
    "test = ImageTk.PhotoImage(img)\n",
    "label_Img = customtkinter.CTkLabel(master=frame_1,image = test, justify=tkinter.LEFT)\n",
    "label_Img.pack(pady=12, padx=10)\n",
    "app.mainloop()"
   ]
  },
  {
   "cell_type": "code",
   "execution_count": null,
   "id": "9d85784c",
   "metadata": {},
   "outputs": [],
   "source": []
  },
  {
   "cell_type": "code",
   "execution_count": null,
   "id": "bd9e5b10",
   "metadata": {},
   "outputs": [],
   "source": []
  },
  {
   "cell_type": "code",
   "execution_count": null,
   "id": "31fc726a",
   "metadata": {},
   "outputs": [],
   "source": []
  },
  {
   "cell_type": "code",
   "execution_count": null,
   "id": "30ab3a54",
   "metadata": {},
   "outputs": [],
   "source": []
  },
  {
   "cell_type": "code",
   "execution_count": null,
   "id": "f1ad36ed",
   "metadata": {},
   "outputs": [],
   "source": []
  },
  {
   "cell_type": "code",
   "execution_count": null,
   "id": "68e17bff",
   "metadata": {},
   "outputs": [],
   "source": []
  },
  {
   "cell_type": "code",
   "execution_count": null,
   "id": "31552fb0",
   "metadata": {},
   "outputs": [],
   "source": []
  },
  {
   "cell_type": "code",
   "execution_count": 1,
   "id": "46c3e586",
   "metadata": {},
   "outputs": [
    {
     "name": "stdout",
     "output_type": "stream",
     "text": [
      "\n",
      "(1) Bakıye Sorma \n",
      "(2) Para Çekme \n",
      "(3) Para Yatırma \n",
      "(4) Çıkış\n",
      "\n",
      "Lütfen işlem seçiniz: 1\n",
      "Bakiye: 1000\n",
      "Lütfen işlem seçiniz: 2\n",
      "Ne kadar çekmek istiyorsunuz: 50\n",
      "Lütfen işlem seçiniz: 3\n",
      "Nekadar para yatırmak istiyorsunuz: 50\n",
      "Yeni bakiyeniz:1000\n",
      "Lütfen işlem seçiniz: 4\n",
      "İyi Günler Dileriz..\n"
     ]
    }
   ],
   "source": [
    "print(\"\"\"\n",
    "(1) Bakıye Sorma \n",
    "(2) Para Çekme \n",
    "(3) Para Yatırma \n",
    "(4) Çıkış\n",
    "\"\"\")\n",
    "bakiye = 1000\n",
    "while True:\n",
    "    islem = input(\"Lütfen işlem seçiniz: \")\n",
    "    if islem == \"4\":\n",
    "        print(\"İyi Günler Dileriz..\")\n",
    "        break\n",
    "    elif(islem == \"1\"):\n",
    "\n",
    "        print(\"Bakiye: {}\".format(bakiye))\n",
    "    elif(islem==\"2\"):\n",
    "        tutar = int(input(\"Ne kadar çekmek istiyorsunuz: \"))\n",
    "\n",
    "        if(bakiye - tutar < 0 ): \n",
    "            print(\"Yetersiz bAKİYE...\")\n",
    "            continue\n",
    "        bakiye -= tutar \n",
    "\n",
    "    elif(islem == \"3\"):\n",
    "        tutar = int( input(\"Nekadar para yatırmak istiyorsunuz: \"))\n",
    "        bakiye = bakiye+ tutar\n",
    "        print(\"Yeni bakiyeniz:{}\".format(bakiye))\n",
    "    else:\n",
    "        print(\"Geçersiz işlem girdiniz..!\")"
   ]
  },
  {
   "cell_type": "code",
   "execution_count": 9,
   "id": "d6b1db00",
   "metadata": {
    "collapsed": true
   },
   "outputs": [
    {
     "data": {
      "text/plain": [
       "['__add__',\n",
       " '__class__',\n",
       " '__contains__',\n",
       " '__delattr__',\n",
       " '__dir__',\n",
       " '__doc__',\n",
       " '__eq__',\n",
       " '__format__',\n",
       " '__ge__',\n",
       " '__getattribute__',\n",
       " '__getitem__',\n",
       " '__getnewargs__',\n",
       " '__gt__',\n",
       " '__hash__',\n",
       " '__init__',\n",
       " '__init_subclass__',\n",
       " '__iter__',\n",
       " '__le__',\n",
       " '__len__',\n",
       " '__lt__',\n",
       " '__mod__',\n",
       " '__mul__',\n",
       " '__ne__',\n",
       " '__new__',\n",
       " '__reduce__',\n",
       " '__reduce_ex__',\n",
       " '__repr__',\n",
       " '__rmod__',\n",
       " '__rmul__',\n",
       " '__setattr__',\n",
       " '__sizeof__',\n",
       " '__str__',\n",
       " '__subclasshook__',\n",
       " 'capitalize',\n",
       " 'casefold',\n",
       " 'center',\n",
       " 'count',\n",
       " 'encode',\n",
       " 'endswith',\n",
       " 'expandtabs',\n",
       " 'find',\n",
       " 'format',\n",
       " 'format_map',\n",
       " 'index',\n",
       " 'isalnum',\n",
       " 'isalpha',\n",
       " 'isascii',\n",
       " 'isdecimal',\n",
       " 'isdigit',\n",
       " 'isidentifier',\n",
       " 'islower',\n",
       " 'isnumeric',\n",
       " 'isprintable',\n",
       " 'isspace',\n",
       " 'istitle',\n",
       " 'isupper',\n",
       " 'join',\n",
       " 'ljust',\n",
       " 'lower',\n",
       " 'lstrip',\n",
       " 'maketrans',\n",
       " 'partition',\n",
       " 'removeprefix',\n",
       " 'removesuffix',\n",
       " 'replace',\n",
       " 'rfind',\n",
       " 'rindex',\n",
       " 'rjust',\n",
       " 'rpartition',\n",
       " 'rsplit',\n",
       " 'rstrip',\n",
       " 'split',\n",
       " 'splitlines',\n",
       " 'startswith',\n",
       " 'strip',\n",
       " 'swapcase',\n",
       " 'title',\n",
       " 'translate',\n",
       " 'upper',\n",
       " 'zfill']"
      ]
     },
     "execution_count": 9,
     "metadata": {},
     "output_type": "execute_result"
    }
   ],
   "source": [
    "dir(str)"
   ]
  },
  {
   "cell_type": "code",
   "execution_count": null,
   "id": "9b46cad3",
   "metadata": {},
   "outputs": [],
   "source": []
  },
  {
   "cell_type": "code",
   "execution_count": null,
   "id": "3a8a3fec",
   "metadata": {},
   "outputs": [],
   "source": []
  },
  {
   "cell_type": "code",
   "execution_count": null,
   "id": "0439090b",
   "metadata": {},
   "outputs": [],
   "source": []
  },
  {
   "cell_type": "code",
   "execution_count": null,
   "id": "3c70d5ae",
   "metadata": {},
   "outputs": [],
   "source": []
  }
 ],
 "metadata": {
  "kernelspec": {
   "display_name": "Python 3 (ipykernel)",
   "language": "python",
   "name": "python3"
  },
  "language_info": {
   "codemirror_mode": {
    "name": "ipython",
    "version": 3
   },
   "file_extension": ".py",
   "mimetype": "text/x-python",
   "name": "python",
   "nbconvert_exporter": "python",
   "pygments_lexer": "ipython3",
   "version": "3.9.12"
  }
 },
 "nbformat": 4,
 "nbformat_minor": 5
}
